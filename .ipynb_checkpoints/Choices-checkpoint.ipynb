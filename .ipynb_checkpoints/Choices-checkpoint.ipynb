{
 "cells": [
  {
   "cell_type": "code",
   "execution_count": 2,
   "metadata": {},
   "outputs": [
    {
     "ename": "SyntaxError",
     "evalue": "unexpected EOF while parsing (<ipython-input-2-2c394fb9d9a6>, line 35)",
     "output_type": "error",
     "traceback": [
      "\u001b[1;36m  File \u001b[1;32m\"<ipython-input-2-2c394fb9d9a6>\"\u001b[1;36m, line \u001b[1;32m35\u001b[0m\n\u001b[1;33m    \u001b[0m\n\u001b[1;37m    ^\u001b[0m\n\u001b[1;31mSyntaxError\u001b[0m\u001b[1;31m:\u001b[0m unexpected EOF while parsing\n"
     ]
    }
   ],
   "source": [
    "import random as rn\n",
    "from random import choice, sample\n",
    "class Die:\n",
    "    \n",
    "    def __init__(self, value, probabilities = None):\n",
    "        self.value = value\n",
    "        self.probabilities = probabilities\n",
    "        \n",
    "    def sides(self):\n",
    "        self.sides = int(value)\n",
    "    \n",
    "    def roll(self):\n",
    "        if(self.probabilities == None):\n",
    "            self.value = rn.randint(1,self.value + 1)\n",
    "        else:\n",
    "            print('array')\n",
    "         \n",
    "    def error_probabilities(self):\n",
    "        for x in self.probabilities:\n",
    "            if(isinstance(x, int)):\n",
    "                pass\n",
    "            else:\n",
    "                raise Exception(\"only integer values allowed\")\n",
    "            if(x >= 0):\n",
    "                pass\n",
    "            else:\n",
    "                 raise Exception(\"negative probabilities not allowed\") \n",
    "            if(sum(self.probabilities) > 1):\n",
    "                pass\n",
    "            else:\n",
    "                raise Exception(\"probability sum must be greater than 0\")\n",
    "        return self.roll()\n",
    "\n",
    " "
   ]
  },
  {
   "cell_type": "code",
   "execution_count": null,
   "metadata": {},
   "outputs": [],
   "source": [
    "Die_6 = Die(6,[1,1,1])\n",
    "Die_6.roll()"
   ]
  }
 ],
 "metadata": {
  "kernelspec": {
   "display_name": "Python 3",
   "language": "python",
   "name": "python3"
  },
  "language_info": {
   "codemirror_mode": {
    "name": "ipython",
    "version": 3
   },
   "file_extension": ".py",
   "mimetype": "text/x-python",
   "name": "python",
   "nbconvert_exporter": "python",
   "pygments_lexer": "ipython3",
   "version": "3.7.3"
  }
 },
 "nbformat": 4,
 "nbformat_minor": 4
}
