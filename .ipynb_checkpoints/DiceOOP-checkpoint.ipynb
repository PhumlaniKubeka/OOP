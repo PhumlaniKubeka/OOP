{
 "cells": [
  {
   "cell_type": "code",
   "execution_count": 39,
   "metadata": {},
   "outputs": [],
   "source": [
    "import random as rn\n",
    "class Die:\n",
    "    \n",
    "    def __init__(self, value, probabilities = None):\n",
    "        self.value = value\n",
    "        self.probabilities = probabilities\n",
    "        \n",
    "    def sides(self):\n",
    "        self.sides = int(value)\n",
    "    \n",
    "    def roll(self):\n",
    "        if(self.probabilities == None):\n",
    "            self.value = rn.randint(1,self.value + 1)\n",
    "        else:\n",
    "            print('array')\n",
    "         \n",
    "    def error_probabilities(self):\n",
    "        for x in self.probabilities:\n",
    "            if(isinstance(x, int)):\n",
    "                pass\n",
    "            else:\n",
    "                raise Exception(\"only integer values allowed\")\n",
    "            if(x >= 0):\n",
    "                pass\n",
    "            else:\n",
    "                 raise Exception(\"negative probabilities not allowed\") \n",
    "            if(sum(self.probabilities) > 1):\n",
    "                pass\n",
    "            else:\n",
    "                raise Exception(\"probability sum must be greater than 0\")\n",
    "        return self.roll()\n",
    "\n",
    "    def setProbabilities(self):\n",
    "        list = []\n",
    "            for x in range(self.value):\n",
    "                if(len(self.probabilities) == values):\n",
    "                    for y in range(self.probabilities[x]):\n",
    "                        list.append()\n",
    "                        "
   ]
  },
  {
   "cell_type": "code",
   "execution_count": 40,
   "metadata": {},
   "outputs": [
    {
     "name": "stdout",
     "output_type": "stream",
     "text": [
      "6\n"
     ]
    }
   ],
   "source": [
    "die6 = Die(6)\n",
    "die6.roll()\n",
    "print(die6.value)"
   ]
  },
  {
   "cell_type": "code",
   "execution_count": 41,
   "metadata": {},
   "outputs": [
    {
     "name": "stdout",
     "output_type": "stream",
     "text": [
      "9\n"
     ]
    }
   ],
   "source": [
    "die20 = Die(20)\n",
    "die20.roll()\n",
    "print(die20.value)"
   ]
  },
  {
   "cell_type": "code",
   "execution_count": 46,
   "metadata": {},
   "outputs": [
    {
     "name": "stdout",
     "output_type": "stream",
     "text": [
      "array\n"
     ]
    }
   ],
   "source": [
    "Die_6 = Die(6,[1,1,1])\n",
    "Die_6.roll()"
   ]
  },
  {
   "cell_type": "code",
   "execution_count": 47,
   "metadata": {},
   "outputs": [
    {
     "name": "stdout",
     "output_type": "stream",
     "text": [
      "array\n",
      "None\n"
     ]
    }
   ],
   "source": [
    "print(Die_6.error_probabilities())"
   ]
  },
  {
   "cell_type": "code",
   "execution_count": null,
   "metadata": {},
   "outputs": [],
   "source": []
  },
  {
   "cell_type": "code",
   "execution_count": null,
   "metadata": {},
   "outputs": [],
   "source": []
  }
 ],
 "metadata": {
  "kernelspec": {
   "display_name": "Python 3",
   "language": "python",
   "name": "python3"
  },
  "language_info": {
   "codemirror_mode": {
    "name": "ipython",
    "version": 3
   },
   "file_extension": ".py",
   "mimetype": "text/x-python",
   "name": "python",
   "nbconvert_exporter": "python",
   "pygments_lexer": "ipython3",
   "version": "3.7.3"
  }
 },
 "nbformat": 4,
 "nbformat_minor": 4
}
