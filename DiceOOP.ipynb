{
 "cells": [
  {
   "cell_type": "code",
   "execution_count": 291,
   "metadata": {},
   "outputs": [],
   "source": [
    "import random as rn\n",
    "class Die:\n",
    "    \n",
    "    def __init__(self, value, probabilities = None):\n",
    "        self.value = value\n",
    "        self.probabilities = probabilities\n",
    "        \n",
    "       \n",
    "        \n",
    "    def sides(self):\n",
    "        self.sides = int(value)\n",
    "    \n",
    "    def roll(self):\n",
    "        if(self.probabilities == None):\n",
    "            self.value = rn.randint(1,self.value + 1)\n",
    "        else:\n",
    "            self.setProbabilities()\n",
    "            \n",
    "         \n",
    "    def error_probabilities(self):\n",
    "        for x in self.probabilities:\n",
    "            if(isinstance(x, int)):\n",
    "                pass\n",
    "            else:\n",
    "                raise Exception(\"only integer values allowed\")\n",
    "            if(x >= 0):\n",
    "                pass\n",
    "            else:\n",
    "                 raise Exception(\"negative probabilities not allowed\") \n",
    "            if(sum(self.probabilities) > 1):\n",
    "                pass\n",
    "            else:\n",
    "                raise Exception(\"probability sum must be greater than 0\")\n",
    "        return self.roll()\n",
    "\n",
    "    def setProbabilities(self):\n",
    "        weight = []\n",
    "        \n",
    "        for i in range(1,self.value+1): \n",
    "            weight.append(str(i))\n",
    "        new = [weight * self.probabilities for weight,self.probabilities in zip(weight,self.probabilities)]\n",
    "        weight_list = [b for i in new for b in i]\n",
    "        self.value = rn.choice(weight_list)\n",
    "\n",
    "        \n",
    "class DiceFactory():\n",
    "    \n",
    "    def __init__(self,sides):\n",
    "        self.sides = sides\n",
    "        \n",
    "        \n",
    "    def make_die(self):\n",
    "        \n",
    "        self.value = rn.randrange(1, self.sides+1)\n",
    "        print(self.value)\n",
    "        return self.value\n",
    "      "
   ]
  },
  {
   "cell_type": "code",
   "execution_count": 293,
   "metadata": {},
   "outputs": [
    {
     "name": "stdout",
     "output_type": "stream",
     "text": [
      "7\n"
     ]
    }
   ],
   "source": [
    "die6 = Die(6)\n",
    "die6.roll()\n",
    "print(die6.value)"
   ]
  },
  {
   "cell_type": "code",
   "execution_count": 294,
   "metadata": {},
   "outputs": [
    {
     "name": "stdout",
     "output_type": "stream",
     "text": [
      "18\n"
     ]
    }
   ],
   "source": [
    "die20 = Die(20)\n",
    "die20.roll()\n",
    "print(die20.value)"
   ]
  },
  {
   "cell_type": "code",
   "execution_count": 295,
   "metadata": {},
   "outputs": [],
   "source": [
    "Die_6 = Die(6,[1,1,1,2,4,5])\n",
    "Die_6.roll()"
   ]
  },
  {
   "cell_type": "code",
   "execution_count": 296,
   "metadata": {},
   "outputs": [
    {
     "name": "stdout",
     "output_type": "stream",
     "text": [
      "5\n"
     ]
    }
   ],
   "source": [
    "print(Die_6.value)"
   ]
  },
  {
   "cell_type": "code",
   "execution_count": 297,
   "metadata": {},
   "outputs": [
    {
     "name": "stdout",
     "output_type": "stream",
     "text": [
      "13\n",
      "9\n"
     ]
    }
   ],
   "source": [
    "factory20 = DiceFactory(20)\n",
    "die20 = factory20.make_die()\n",
    "anotherDie20 = factory20.make_die()  "
   ]
  },
  {
   "cell_type": "code",
   "execution_count": null,
   "metadata": {},
   "outputs": [],
   "source": []
  }
 ],
 "metadata": {
  "kernelspec": {
   "display_name": "Python 3",
   "language": "python",
   "name": "python3"
  },
  "language_info": {
   "codemirror_mode": {
    "name": "ipython",
    "version": 3
   },
   "file_extension": ".py",
   "mimetype": "text/x-python",
   "name": "python",
   "nbconvert_exporter": "python",
   "pygments_lexer": "ipython3",
   "version": "3.7.3"
  }
 },
 "nbformat": 4,
 "nbformat_minor": 4
}
