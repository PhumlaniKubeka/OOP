{
 "cells": [
  {
   "cell_type": "code",
   "execution_count": null,
   "metadata": {},
   "outputs": [],
   "source": [
    "import random as rn\n",
    "class Die:\n",
    "    \n",
    "    def __init__(self, value, probabilities = None):\n",
    "        self.value = value\n",
    "        self.probabilities = probabilities\n",
    "        \n",
    "    def sides(self):\n",
    "        self.sides = int(value)\n",
    "    \n",
    "    def roll(self):\n",
    "        if(self.probabilities == None):\n",
    "            self.value = rn.randint(1,self.value + 1)\n",
    "        else:\n",
    "            print('array')\n",
    "         \n",
    "    def setProbabilities(self):\n",
    "        for x in self.probabilities:\n",
    "            if(isinstance(x, int)):\n",
    "                pass\n",
    "            else:\n",
    "                raise Exception(\"only integer values allowed\")\n",
    "            if(x >= 0):\n",
    "                pass\n",
    "            else:\n",
    "                 raise Exception(\"negative probabilities not allowed\") \n",
    "            if(sum(self.probabilities) > 1):\n",
    "                pass \n",
    "            else:\n",
    "                raise Exception(\"probability sum must be greater than 0\")\n",
    "                \n",
    "    def (self):\n",
    "        list = []\n",
    "            "
   ]
  }
 ],
 "metadata": {
  "kernelspec": {
   "display_name": "Python 3",
   "language": "python",
   "name": "python3"
  },
  "language_info": {
   "codemirror_mode": {
    "name": "ipython",
    "version": 3
   },
   "file_extension": ".py",
   "mimetype": "text/x-python",
   "name": "python",
   "nbconvert_exporter": "python",
   "pygments_lexer": "ipython3",
   "version": "3.7.3"
  }
 },
 "nbformat": 4,
 "nbformat_minor": 4
}
